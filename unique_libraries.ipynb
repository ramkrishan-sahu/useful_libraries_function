{
  "nbformat": 4,
  "nbformat_minor": 0,
  "metadata": {
    "colab": {
      "name": "unique_libraries.ipynb",
      "provenance": [],
      "collapsed_sections": []
    },
    "kernelspec": {
      "name": "python3",
      "display_name": "Python 3"
    },
    "language_info": {
      "name": "python"
    }
  },
  "cells": [
    {
      "cell_type": "code",
      "metadata": {
        "colab": {
          "base_uri": "https://localhost:8080/"
        },
        "id": "9jXnvpjZkcKi",
        "outputId": "b721066c-c6d2-4e7b-bc6b-53b02ab30be4"
      },
      "source": [
        "# link: https://pypi.org/project/termcolor/\n",
        "import sys\n",
        "from termcolor import colored, cprint\n",
        "\n",
        "text = colored('Hello, World!', 'red', attrs=['reverse', 'blink'])\n",
        "print(text)\n",
        "cprint('Hello, World!', 'green', 'on_red')\n",
        "\n",
        "print_red_on_cyan = lambda x: cprint(x, 'red', 'on_cyan')\n",
        "print_red_on_cyan('Hello, World!')\n",
        "print_red_on_cyan('Hello, Universe!')\n",
        "\n",
        "for i in range(10):\n",
        "    cprint(i, 'magenta', end=' ')\n",
        "\n",
        "cprint(\"Attention!\", 'red', attrs=['bold'], file=sys.stderr)"
      ],
      "execution_count": null,
      "outputs": [
        {
          "output_type": "stream",
          "text": [
            "\u001b[5m\u001b[7m\u001b[31mHello, World!\u001b[0m\n",
            "\u001b[41m\u001b[32mHello, World!\u001b[0m\n",
            "\u001b[46m\u001b[31mHello, World!\u001b[0m\n",
            "\u001b[46m\u001b[31mHello, Universe!\u001b[0m\n",
            "\u001b[35m0\u001b[0m \u001b[35m1\u001b[0m \u001b[35m2\u001b[0m \u001b[35m3\u001b[0m \u001b[35m4\u001b[0m \u001b[35m5\u001b[0m \u001b[35m6\u001b[0m \u001b[35m7\u001b[0m \u001b[35m8\u001b[0m \u001b[35m9\u001b[0m "
          ],
          "name": "stdout"
        },
        {
          "output_type": "stream",
          "text": [
            "\u001b[1m\u001b[31mAttention!\u001b[0m\n"
          ],
          "name": "stderr"
        }
      ]
    },
    {
      "cell_type": "markdown",
      "metadata": {
        "id": "7z3RauoirDeW"
      },
      "source": [
        "### **Note:** The colours are not visible in the github hence sharing the image\n",
        "\n",
        "![termcolor.PNG](data:image/png;base64,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)\n",
        "\n"
      ]
    }
  ]
}